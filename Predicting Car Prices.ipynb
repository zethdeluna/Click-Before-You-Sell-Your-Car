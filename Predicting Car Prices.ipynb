{
 "cells": [
  {
   "cell_type": "markdown",
   "metadata": {},
   "source": [
    "# Want to Sell a Car?\n",
    "\n",
    "_Author: Zeth De Luna &mdash; September 10, 2020_\n",
    "\n",
    "In this project, we'll be practicing the basics of the machine learning workflow to predict a car's market price using its attributes. [The data set](https://archive.ics.uci.edu/ml/datasets/automobile) we'll be working with contains information on various cars, such as the motor's displacement, the weight of the car, the miles per gallon, etc. \n",
    "\n",
    "## Exploring the Data"
   ]
  },
  {
   "cell_type": "code",
   "execution_count": 1,
   "metadata": {},
   "outputs": [],
   "source": [
    "import pandas as pd\n",
    "import matplotlib.pyplot as plt\n",
    "\n",
    "%matplotlib inline\n",
    "pd.set_option('display.max_columns', None)"
   ]
  },
  {
   "cell_type": "code",
   "execution_count": 2,
   "metadata": {},
   "outputs": [],
   "source": [
    "column_names= ['symboling', 'normalized_losses', 'make', 'fuel_type',\n",
    "               'aspiration', 'num_of_doors', 'body_style', 'drive_wheels', 'engine_location', 'wheel_base',\n",
    "               'length', 'width', 'height', 'curb_weight',\n",
    "               'engine_type', 'num_of_cylinders', 'engine_size', 'fuel_system',\n",
    "               'bore', 'stroke', 'compression_ratio', 'horsepower',\n",
    "               'peak_rpm', 'city_mpg', 'highway_mpg', 'price']\n",
    "\n",
    "cars = pd.read_csv('imports-85.data', header=None, names=column_names)"
   ]
  },
  {
   "cell_type": "code",
   "execution_count": 3,
   "metadata": {},
   "outputs": [
    {
     "data": {
      "text/html": [
       "<div>\n",
       "<style scoped>\n",
       "    .dataframe tbody tr th:only-of-type {\n",
       "        vertical-align: middle;\n",
       "    }\n",
       "\n",
       "    .dataframe tbody tr th {\n",
       "        vertical-align: top;\n",
       "    }\n",
       "\n",
       "    .dataframe thead th {\n",
       "        text-align: right;\n",
       "    }\n",
       "</style>\n",
       "<table border=\"1\" class=\"dataframe\">\n",
       "  <thead>\n",
       "    <tr style=\"text-align: right;\">\n",
       "      <th></th>\n",
       "      <th>symboling</th>\n",
       "      <th>normalized_losses</th>\n",
       "      <th>make</th>\n",
       "      <th>fuel_type</th>\n",
       "      <th>aspiration</th>\n",
       "      <th>num_of_doors</th>\n",
       "      <th>body_style</th>\n",
       "      <th>drive_wheels</th>\n",
       "      <th>engine_location</th>\n",
       "      <th>wheel_base</th>\n",
       "      <th>length</th>\n",
       "      <th>width</th>\n",
       "      <th>height</th>\n",
       "      <th>curb_weight</th>\n",
       "      <th>engine_type</th>\n",
       "      <th>num_of_cylinders</th>\n",
       "      <th>engine_size</th>\n",
       "      <th>fuel_system</th>\n",
       "      <th>bore</th>\n",
       "      <th>stroke</th>\n",
       "      <th>compression_ratio</th>\n",
       "      <th>horsepower</th>\n",
       "      <th>peak_rpm</th>\n",
       "      <th>city_mpg</th>\n",
       "      <th>highway_mpg</th>\n",
       "      <th>price</th>\n",
       "    </tr>\n",
       "  </thead>\n",
       "  <tbody>\n",
       "    <tr>\n",
       "      <th>0</th>\n",
       "      <td>3</td>\n",
       "      <td>?</td>\n",
       "      <td>alfa-romero</td>\n",
       "      <td>gas</td>\n",
       "      <td>std</td>\n",
       "      <td>two</td>\n",
       "      <td>convertible</td>\n",
       "      <td>rwd</td>\n",
       "      <td>front</td>\n",
       "      <td>88.6</td>\n",
       "      <td>168.8</td>\n",
       "      <td>64.1</td>\n",
       "      <td>48.8</td>\n",
       "      <td>2548</td>\n",
       "      <td>dohc</td>\n",
       "      <td>four</td>\n",
       "      <td>130</td>\n",
       "      <td>mpfi</td>\n",
       "      <td>3.47</td>\n",
       "      <td>2.68</td>\n",
       "      <td>9.0</td>\n",
       "      <td>111</td>\n",
       "      <td>5000</td>\n",
       "      <td>21</td>\n",
       "      <td>27</td>\n",
       "      <td>13495</td>\n",
       "    </tr>\n",
       "    <tr>\n",
       "      <th>1</th>\n",
       "      <td>3</td>\n",
       "      <td>?</td>\n",
       "      <td>alfa-romero</td>\n",
       "      <td>gas</td>\n",
       "      <td>std</td>\n",
       "      <td>two</td>\n",
       "      <td>convertible</td>\n",
       "      <td>rwd</td>\n",
       "      <td>front</td>\n",
       "      <td>88.6</td>\n",
       "      <td>168.8</td>\n",
       "      <td>64.1</td>\n",
       "      <td>48.8</td>\n",
       "      <td>2548</td>\n",
       "      <td>dohc</td>\n",
       "      <td>four</td>\n",
       "      <td>130</td>\n",
       "      <td>mpfi</td>\n",
       "      <td>3.47</td>\n",
       "      <td>2.68</td>\n",
       "      <td>9.0</td>\n",
       "      <td>111</td>\n",
       "      <td>5000</td>\n",
       "      <td>21</td>\n",
       "      <td>27</td>\n",
       "      <td>16500</td>\n",
       "    </tr>\n",
       "    <tr>\n",
       "      <th>2</th>\n",
       "      <td>1</td>\n",
       "      <td>?</td>\n",
       "      <td>alfa-romero</td>\n",
       "      <td>gas</td>\n",
       "      <td>std</td>\n",
       "      <td>two</td>\n",
       "      <td>hatchback</td>\n",
       "      <td>rwd</td>\n",
       "      <td>front</td>\n",
       "      <td>94.5</td>\n",
       "      <td>171.2</td>\n",
       "      <td>65.5</td>\n",
       "      <td>52.4</td>\n",
       "      <td>2823</td>\n",
       "      <td>ohcv</td>\n",
       "      <td>six</td>\n",
       "      <td>152</td>\n",
       "      <td>mpfi</td>\n",
       "      <td>2.68</td>\n",
       "      <td>3.47</td>\n",
       "      <td>9.0</td>\n",
       "      <td>154</td>\n",
       "      <td>5000</td>\n",
       "      <td>19</td>\n",
       "      <td>26</td>\n",
       "      <td>16500</td>\n",
       "    </tr>\n",
       "    <tr>\n",
       "      <th>3</th>\n",
       "      <td>2</td>\n",
       "      <td>164</td>\n",
       "      <td>audi</td>\n",
       "      <td>gas</td>\n",
       "      <td>std</td>\n",
       "      <td>four</td>\n",
       "      <td>sedan</td>\n",
       "      <td>fwd</td>\n",
       "      <td>front</td>\n",
       "      <td>99.8</td>\n",
       "      <td>176.6</td>\n",
       "      <td>66.2</td>\n",
       "      <td>54.3</td>\n",
       "      <td>2337</td>\n",
       "      <td>ohc</td>\n",
       "      <td>four</td>\n",
       "      <td>109</td>\n",
       "      <td>mpfi</td>\n",
       "      <td>3.19</td>\n",
       "      <td>3.40</td>\n",
       "      <td>10.0</td>\n",
       "      <td>102</td>\n",
       "      <td>5500</td>\n",
       "      <td>24</td>\n",
       "      <td>30</td>\n",
       "      <td>13950</td>\n",
       "    </tr>\n",
       "    <tr>\n",
       "      <th>4</th>\n",
       "      <td>2</td>\n",
       "      <td>164</td>\n",
       "      <td>audi</td>\n",
       "      <td>gas</td>\n",
       "      <td>std</td>\n",
       "      <td>four</td>\n",
       "      <td>sedan</td>\n",
       "      <td>4wd</td>\n",
       "      <td>front</td>\n",
       "      <td>99.4</td>\n",
       "      <td>176.6</td>\n",
       "      <td>66.4</td>\n",
       "      <td>54.3</td>\n",
       "      <td>2824</td>\n",
       "      <td>ohc</td>\n",
       "      <td>five</td>\n",
       "      <td>136</td>\n",
       "      <td>mpfi</td>\n",
       "      <td>3.19</td>\n",
       "      <td>3.40</td>\n",
       "      <td>8.0</td>\n",
       "      <td>115</td>\n",
       "      <td>5500</td>\n",
       "      <td>18</td>\n",
       "      <td>22</td>\n",
       "      <td>17450</td>\n",
       "    </tr>\n",
       "  </tbody>\n",
       "</table>\n",
       "</div>"
      ],
      "text/plain": [
       "   symboling normalized_losses         make fuel_type aspiration num_of_doors  \\\n",
       "0          3                 ?  alfa-romero       gas        std          two   \n",
       "1          3                 ?  alfa-romero       gas        std          two   \n",
       "2          1                 ?  alfa-romero       gas        std          two   \n",
       "3          2               164         audi       gas        std         four   \n",
       "4          2               164         audi       gas        std         four   \n",
       "\n",
       "    body_style drive_wheels engine_location  wheel_base  length  width  \\\n",
       "0  convertible          rwd           front        88.6   168.8   64.1   \n",
       "1  convertible          rwd           front        88.6   168.8   64.1   \n",
       "2    hatchback          rwd           front        94.5   171.2   65.5   \n",
       "3        sedan          fwd           front        99.8   176.6   66.2   \n",
       "4        sedan          4wd           front        99.4   176.6   66.4   \n",
       "\n",
       "   height  curb_weight engine_type num_of_cylinders  engine_size fuel_system  \\\n",
       "0    48.8         2548        dohc             four          130        mpfi   \n",
       "1    48.8         2548        dohc             four          130        mpfi   \n",
       "2    52.4         2823        ohcv              six          152        mpfi   \n",
       "3    54.3         2337         ohc             four          109        mpfi   \n",
       "4    54.3         2824         ohc             five          136        mpfi   \n",
       "\n",
       "   bore stroke  compression_ratio horsepower peak_rpm  city_mpg  highway_mpg  \\\n",
       "0  3.47   2.68                9.0        111     5000        21           27   \n",
       "1  3.47   2.68                9.0        111     5000        21           27   \n",
       "2  2.68   3.47                9.0        154     5000        19           26   \n",
       "3  3.19   3.40               10.0        102     5500        24           30   \n",
       "4  3.19   3.40                8.0        115     5500        18           22   \n",
       "\n",
       "   price  \n",
       "0  13495  \n",
       "1  16500  \n",
       "2  16500  \n",
       "3  13950  \n",
       "4  17450  "
      ]
     },
     "execution_count": 3,
     "metadata": {},
     "output_type": "execute_result"
    }
   ],
   "source": [
    "cars.head()"
   ]
  },
  {
   "cell_type": "markdown",
   "metadata": {},
   "source": [
    "Our goal for this project is to predict a car's market price. In terms of machine learning, this means that our target column should be the `price` column. The columns that we can use as features&mdash;car qualities we can use to determine the car's value&mdash;include all numeric columns. The non-numeric columns have values that we can't use to make quantifiable comparisons, so we'll get rid of those columns."
   ]
  },
  {
   "cell_type": "code",
   "execution_count": 4,
   "metadata": {},
   "outputs": [],
   "source": [
    "numeric_cols = ['normalized_losses', 'num_of_doors', 'wheel_base',\n",
    "                'length', 'width', 'height', 'curb_weight',\n",
    "                'num_of_cylinders', 'engine_size', 'bore', 'stroke',\n",
    "                'compression_ratio', 'horsepower', 'peak_rpm',\n",
    "                'city_mpg', 'highway_mpg', 'price']\n",
    "\n",
    "cars_num = cars[numeric_cols].copy()"
   ]
  },
  {
   "cell_type": "code",
   "execution_count": 5,
   "metadata": {},
   "outputs": [
    {
     "data": {
      "text/html": [
       "<div>\n",
       "<style scoped>\n",
       "    .dataframe tbody tr th:only-of-type {\n",
       "        vertical-align: middle;\n",
       "    }\n",
       "\n",
       "    .dataframe tbody tr th {\n",
       "        vertical-align: top;\n",
       "    }\n",
       "\n",
       "    .dataframe thead th {\n",
       "        text-align: right;\n",
       "    }\n",
       "</style>\n",
       "<table border=\"1\" class=\"dataframe\">\n",
       "  <thead>\n",
       "    <tr style=\"text-align: right;\">\n",
       "      <th></th>\n",
       "      <th>normalized_losses</th>\n",
       "      <th>num_of_doors</th>\n",
       "      <th>wheel_base</th>\n",
       "      <th>length</th>\n",
       "      <th>width</th>\n",
       "      <th>height</th>\n",
       "      <th>curb_weight</th>\n",
       "      <th>num_of_cylinders</th>\n",
       "      <th>engine_size</th>\n",
       "      <th>bore</th>\n",
       "      <th>stroke</th>\n",
       "      <th>compression_ratio</th>\n",
       "      <th>horsepower</th>\n",
       "      <th>peak_rpm</th>\n",
       "      <th>city_mpg</th>\n",
       "      <th>highway_mpg</th>\n",
       "      <th>price</th>\n",
       "    </tr>\n",
       "  </thead>\n",
       "  <tbody>\n",
       "    <tr>\n",
       "      <th>0</th>\n",
       "      <td>?</td>\n",
       "      <td>two</td>\n",
       "      <td>88.6</td>\n",
       "      <td>168.8</td>\n",
       "      <td>64.1</td>\n",
       "      <td>48.8</td>\n",
       "      <td>2548</td>\n",
       "      <td>four</td>\n",
       "      <td>130</td>\n",
       "      <td>3.47</td>\n",
       "      <td>2.68</td>\n",
       "      <td>9.0</td>\n",
       "      <td>111</td>\n",
       "      <td>5000</td>\n",
       "      <td>21</td>\n",
       "      <td>27</td>\n",
       "      <td>13495</td>\n",
       "    </tr>\n",
       "    <tr>\n",
       "      <th>1</th>\n",
       "      <td>?</td>\n",
       "      <td>two</td>\n",
       "      <td>88.6</td>\n",
       "      <td>168.8</td>\n",
       "      <td>64.1</td>\n",
       "      <td>48.8</td>\n",
       "      <td>2548</td>\n",
       "      <td>four</td>\n",
       "      <td>130</td>\n",
       "      <td>3.47</td>\n",
       "      <td>2.68</td>\n",
       "      <td>9.0</td>\n",
       "      <td>111</td>\n",
       "      <td>5000</td>\n",
       "      <td>21</td>\n",
       "      <td>27</td>\n",
       "      <td>16500</td>\n",
       "    </tr>\n",
       "    <tr>\n",
       "      <th>2</th>\n",
       "      <td>?</td>\n",
       "      <td>two</td>\n",
       "      <td>94.5</td>\n",
       "      <td>171.2</td>\n",
       "      <td>65.5</td>\n",
       "      <td>52.4</td>\n",
       "      <td>2823</td>\n",
       "      <td>six</td>\n",
       "      <td>152</td>\n",
       "      <td>2.68</td>\n",
       "      <td>3.47</td>\n",
       "      <td>9.0</td>\n",
       "      <td>154</td>\n",
       "      <td>5000</td>\n",
       "      <td>19</td>\n",
       "      <td>26</td>\n",
       "      <td>16500</td>\n",
       "    </tr>\n",
       "    <tr>\n",
       "      <th>3</th>\n",
       "      <td>164</td>\n",
       "      <td>four</td>\n",
       "      <td>99.8</td>\n",
       "      <td>176.6</td>\n",
       "      <td>66.2</td>\n",
       "      <td>54.3</td>\n",
       "      <td>2337</td>\n",
       "      <td>four</td>\n",
       "      <td>109</td>\n",
       "      <td>3.19</td>\n",
       "      <td>3.40</td>\n",
       "      <td>10.0</td>\n",
       "      <td>102</td>\n",
       "      <td>5500</td>\n",
       "      <td>24</td>\n",
       "      <td>30</td>\n",
       "      <td>13950</td>\n",
       "    </tr>\n",
       "    <tr>\n",
       "      <th>4</th>\n",
       "      <td>164</td>\n",
       "      <td>four</td>\n",
       "      <td>99.4</td>\n",
       "      <td>176.6</td>\n",
       "      <td>66.4</td>\n",
       "      <td>54.3</td>\n",
       "      <td>2824</td>\n",
       "      <td>five</td>\n",
       "      <td>136</td>\n",
       "      <td>3.19</td>\n",
       "      <td>3.40</td>\n",
       "      <td>8.0</td>\n",
       "      <td>115</td>\n",
       "      <td>5500</td>\n",
       "      <td>18</td>\n",
       "      <td>22</td>\n",
       "      <td>17450</td>\n",
       "    </tr>\n",
       "  </tbody>\n",
       "</table>\n",
       "</div>"
      ],
      "text/plain": [
       "  normalized_losses num_of_doors  wheel_base  length  width  height  \\\n",
       "0                 ?          two        88.6   168.8   64.1    48.8   \n",
       "1                 ?          two        88.6   168.8   64.1    48.8   \n",
       "2                 ?          two        94.5   171.2   65.5    52.4   \n",
       "3               164         four        99.8   176.6   66.2    54.3   \n",
       "4               164         four        99.4   176.6   66.4    54.3   \n",
       "\n",
       "   curb_weight num_of_cylinders  engine_size  bore stroke  compression_ratio  \\\n",
       "0         2548             four          130  3.47   2.68                9.0   \n",
       "1         2548             four          130  3.47   2.68                9.0   \n",
       "2         2823              six          152  2.68   3.47                9.0   \n",
       "3         2337             four          109  3.19   3.40               10.0   \n",
       "4         2824             five          136  3.19   3.40                8.0   \n",
       "\n",
       "  horsepower peak_rpm  city_mpg  highway_mpg  price  \n",
       "0        111     5000        21           27  13495  \n",
       "1        111     5000        21           27  16500  \n",
       "2        154     5000        19           26  16500  \n",
       "3        102     5500        24           30  13950  \n",
       "4        115     5500        18           22  17450  "
      ]
     },
     "execution_count": 5,
     "metadata": {},
     "output_type": "execute_result"
    }
   ],
   "source": [
    "cars_num.head()"
   ]
  },
  {
   "cell_type": "markdown",
   "metadata": {},
   "source": [
    "## Cleaning the Data\n",
    "In the `normalized_losses` column, there are missing data represented by a `?`. The methods of predictive modeling that we'll be using will not work if our data has any missing values. So, we'll replace all `?` with `numpy.nan` missing values."
   ]
  },
  {
   "cell_type": "code",
   "execution_count": 6,
   "metadata": {},
   "outputs": [],
   "source": [
    "import numpy as np\n",
    "# replace '?' with np.nan values\n",
    "cars_num = cars_num.replace('?', np.nan)"
   ]
  },
  {
   "cell_type": "code",
   "execution_count": 7,
   "metadata": {},
   "outputs": [
    {
     "data": {
      "text/html": [
       "<div>\n",
       "<style scoped>\n",
       "    .dataframe tbody tr th:only-of-type {\n",
       "        vertical-align: middle;\n",
       "    }\n",
       "\n",
       "    .dataframe tbody tr th {\n",
       "        vertical-align: top;\n",
       "    }\n",
       "\n",
       "    .dataframe thead th {\n",
       "        text-align: right;\n",
       "    }\n",
       "</style>\n",
       "<table border=\"1\" class=\"dataframe\">\n",
       "  <thead>\n",
       "    <tr style=\"text-align: right;\">\n",
       "      <th></th>\n",
       "      <th>normalized_losses</th>\n",
       "      <th>num_of_doors</th>\n",
       "      <th>wheel_base</th>\n",
       "      <th>length</th>\n",
       "      <th>width</th>\n",
       "      <th>height</th>\n",
       "      <th>curb_weight</th>\n",
       "      <th>num_of_cylinders</th>\n",
       "      <th>engine_size</th>\n",
       "      <th>bore</th>\n",
       "      <th>stroke</th>\n",
       "      <th>compression_ratio</th>\n",
       "      <th>horsepower</th>\n",
       "      <th>peak_rpm</th>\n",
       "      <th>city_mpg</th>\n",
       "      <th>highway_mpg</th>\n",
       "      <th>price</th>\n",
       "    </tr>\n",
       "  </thead>\n",
       "  <tbody>\n",
       "    <tr>\n",
       "      <th>0</th>\n",
       "      <td>NaN</td>\n",
       "      <td>two</td>\n",
       "      <td>88.6</td>\n",
       "      <td>168.8</td>\n",
       "      <td>64.1</td>\n",
       "      <td>48.8</td>\n",
       "      <td>2548</td>\n",
       "      <td>four</td>\n",
       "      <td>130</td>\n",
       "      <td>3.47</td>\n",
       "      <td>2.68</td>\n",
       "      <td>9.0</td>\n",
       "      <td>111</td>\n",
       "      <td>5000</td>\n",
       "      <td>21</td>\n",
       "      <td>27</td>\n",
       "      <td>13495</td>\n",
       "    </tr>\n",
       "    <tr>\n",
       "      <th>1</th>\n",
       "      <td>NaN</td>\n",
       "      <td>two</td>\n",
       "      <td>88.6</td>\n",
       "      <td>168.8</td>\n",
       "      <td>64.1</td>\n",
       "      <td>48.8</td>\n",
       "      <td>2548</td>\n",
       "      <td>four</td>\n",
       "      <td>130</td>\n",
       "      <td>3.47</td>\n",
       "      <td>2.68</td>\n",
       "      <td>9.0</td>\n",
       "      <td>111</td>\n",
       "      <td>5000</td>\n",
       "      <td>21</td>\n",
       "      <td>27</td>\n",
       "      <td>16500</td>\n",
       "    </tr>\n",
       "    <tr>\n",
       "      <th>2</th>\n",
       "      <td>NaN</td>\n",
       "      <td>two</td>\n",
       "      <td>94.5</td>\n",
       "      <td>171.2</td>\n",
       "      <td>65.5</td>\n",
       "      <td>52.4</td>\n",
       "      <td>2823</td>\n",
       "      <td>six</td>\n",
       "      <td>152</td>\n",
       "      <td>2.68</td>\n",
       "      <td>3.47</td>\n",
       "      <td>9.0</td>\n",
       "      <td>154</td>\n",
       "      <td>5000</td>\n",
       "      <td>19</td>\n",
       "      <td>26</td>\n",
       "      <td>16500</td>\n",
       "    </tr>\n",
       "    <tr>\n",
       "      <th>3</th>\n",
       "      <td>164</td>\n",
       "      <td>four</td>\n",
       "      <td>99.8</td>\n",
       "      <td>176.6</td>\n",
       "      <td>66.2</td>\n",
       "      <td>54.3</td>\n",
       "      <td>2337</td>\n",
       "      <td>four</td>\n",
       "      <td>109</td>\n",
       "      <td>3.19</td>\n",
       "      <td>3.40</td>\n",
       "      <td>10.0</td>\n",
       "      <td>102</td>\n",
       "      <td>5500</td>\n",
       "      <td>24</td>\n",
       "      <td>30</td>\n",
       "      <td>13950</td>\n",
       "    </tr>\n",
       "    <tr>\n",
       "      <th>4</th>\n",
       "      <td>164</td>\n",
       "      <td>four</td>\n",
       "      <td>99.4</td>\n",
       "      <td>176.6</td>\n",
       "      <td>66.4</td>\n",
       "      <td>54.3</td>\n",
       "      <td>2824</td>\n",
       "      <td>five</td>\n",
       "      <td>136</td>\n",
       "      <td>3.19</td>\n",
       "      <td>3.40</td>\n",
       "      <td>8.0</td>\n",
       "      <td>115</td>\n",
       "      <td>5500</td>\n",
       "      <td>18</td>\n",
       "      <td>22</td>\n",
       "      <td>17450</td>\n",
       "    </tr>\n",
       "  </tbody>\n",
       "</table>\n",
       "</div>"
      ],
      "text/plain": [
       "  normalized_losses num_of_doors  wheel_base  length  width  height  \\\n",
       "0               NaN          two        88.6   168.8   64.1    48.8   \n",
       "1               NaN          two        88.6   168.8   64.1    48.8   \n",
       "2               NaN          two        94.5   171.2   65.5    52.4   \n",
       "3               164         four        99.8   176.6   66.2    54.3   \n",
       "4               164         four        99.4   176.6   66.4    54.3   \n",
       "\n",
       "   curb_weight num_of_cylinders  engine_size  bore stroke  compression_ratio  \\\n",
       "0         2548             four          130  3.47   2.68                9.0   \n",
       "1         2548             four          130  3.47   2.68                9.0   \n",
       "2         2823              six          152  2.68   3.47                9.0   \n",
       "3         2337             four          109  3.19   3.40               10.0   \n",
       "4         2824             five          136  3.19   3.40                8.0   \n",
       "\n",
       "  horsepower peak_rpm  city_mpg  highway_mpg  price  \n",
       "0        111     5000        21           27  13495  \n",
       "1        111     5000        21           27  16500  \n",
       "2        154     5000        19           26  16500  \n",
       "3        102     5500        24           30  13950  \n",
       "4        115     5500        18           22  17450  "
      ]
     },
     "execution_count": 7,
     "metadata": {},
     "output_type": "execute_result"
    }
   ],
   "source": [
    "cars_num.head()"
   ]
  },
  {
   "cell_type": "markdown",
   "metadata": {},
   "source": [
    "Next, we see that `num_of_doors` and `num_of_cylinders` have values that represnt numbers, however they are spelled out as strings, i.e. `two`, `four`, `six`, etc. Let's find out which \"numbers\" are present in those columns and replace them with numeric values."
   ]
  },
  {
   "cell_type": "code",
   "execution_count": 8,
   "metadata": {},
   "outputs": [
    {
     "data": {
      "text/plain": [
       "four    114\n",
       "two      89\n",
       "Name: num_of_doors, dtype: int64"
      ]
     },
     "execution_count": 8,
     "metadata": {},
     "output_type": "execute_result"
    }
   ],
   "source": [
    "cars_num['num_of_doors'].value_counts()"
   ]
  },
  {
   "cell_type": "code",
   "execution_count": 9,
   "metadata": {},
   "outputs": [
    {
     "data": {
      "text/plain": [
       "four      159\n",
       "six        24\n",
       "five       11\n",
       "eight       5\n",
       "two         4\n",
       "twelve      1\n",
       "three       1\n",
       "Name: num_of_cylinders, dtype: int64"
      ]
     },
     "execution_count": 9,
     "metadata": {},
     "output_type": "execute_result"
    }
   ],
   "source": [
    "cars_num['num_of_cylinders'].value_counts()"
   ]
  },
  {
   "cell_type": "code",
   "execution_count": 10,
   "metadata": {},
   "outputs": [],
   "source": [
    "def transform_number(number):\n",
    "    '''A function that takes in a written number (two, four, six, etc.)\n",
    "    and returns that number as an int (2, 4, 6, etc.).'''\n",
    "    num_dict = {'two': 2,\n",
    "                'three': 3,\n",
    "                'four': 4,\n",
    "                'five': 5,\n",
    "                'six': 6,\n",
    "                'eight': 8, \n",
    "                'twelve': 12}\n",
    "    if number in num_dict:\n",
    "        return num_dict[number]\n",
    "    else:\n",
    "        return np.nan\n",
    "    \n",
    "# apply the function to the two columns\n",
    "cars_num['num_of_doors'] = (cars_num['num_of_doors']\n",
    "                                .apply(transform_number)\n",
    "                           )\n",
    "cars_num['num_of_cylinders'] = (cars_num['num_of_cylinders']\n",
    "                                   .apply(transform_number)\n",
    "                               )"
   ]
  },
  {
   "cell_type": "code",
   "execution_count": 11,
   "metadata": {},
   "outputs": [
    {
     "data": {
      "text/plain": [
       "4.0    114\n",
       "2.0     89\n",
       "NaN      2\n",
       "Name: num_of_doors, dtype: int64"
      ]
     },
     "execution_count": 11,
     "metadata": {},
     "output_type": "execute_result"
    }
   ],
   "source": [
    "cars_num['num_of_doors'].value_counts(dropna=False)"
   ]
  },
  {
   "cell_type": "code",
   "execution_count": 12,
   "metadata": {},
   "outputs": [
    {
     "data": {
      "text/plain": [
       "4     159\n",
       "6      24\n",
       "5      11\n",
       "8       5\n",
       "2       4\n",
       "12      1\n",
       "3       1\n",
       "Name: num_of_cylinders, dtype: int64"
      ]
     },
     "execution_count": 12,
     "metadata": {},
     "output_type": "execute_result"
    }
   ],
   "source": [
    "cars_num['num_of_cylinders'].value_counts(dropna=False)"
   ]
  },
  {
   "cell_type": "code",
   "execution_count": 13,
   "metadata": {},
   "outputs": [
    {
     "name": "stdout",
     "output_type": "stream",
     "text": [
      "<class 'pandas.core.frame.DataFrame'>\n",
      "RangeIndex: 205 entries, 0 to 204\n",
      "Data columns (total 17 columns):\n",
      " #   Column             Non-Null Count  Dtype  \n",
      "---  ------             --------------  -----  \n",
      " 0   normalized_losses  164 non-null    object \n",
      " 1   num_of_doors       203 non-null    float64\n",
      " 2   wheel_base         205 non-null    float64\n",
      " 3   length             205 non-null    float64\n",
      " 4   width              205 non-null    float64\n",
      " 5   height             205 non-null    float64\n",
      " 6   curb_weight        205 non-null    int64  \n",
      " 7   num_of_cylinders   205 non-null    int64  \n",
      " 8   engine_size        205 non-null    int64  \n",
      " 9   bore               201 non-null    object \n",
      " 10  stroke             201 non-null    object \n",
      " 11  compression_ratio  205 non-null    float64\n",
      " 12  horsepower         203 non-null    object \n",
      " 13  peak_rpm           203 non-null    object \n",
      " 14  city_mpg           205 non-null    int64  \n",
      " 15  highway_mpg        205 non-null    int64  \n",
      " 16  price              201 non-null    object \n",
      "dtypes: float64(6), int64(5), object(6)\n",
      "memory usage: 27.4+ KB\n"
     ]
    }
   ],
   "source": [
    "cars_num.info()"
   ]
  },
  {
   "cell_type": "markdown",
   "metadata": {},
   "source": [
    "Although our entire data set consists of either numbers or `NaN` values, some of them are stored as strings. To make the data more useful, we'll convert everything to a `float` type."
   ]
  },
  {
   "cell_type": "code",
   "execution_count": 14,
   "metadata": {},
   "outputs": [],
   "source": [
    "cars_num = cars_num.astype(float)"
   ]
  },
  {
   "cell_type": "markdown",
   "metadata": {},
   "source": [
    "Now, let's figure out what to do with the missing values."
   ]
  },
  {
   "cell_type": "code",
   "execution_count": 15,
   "metadata": {},
   "outputs": [
    {
     "data": {
      "text/plain": [
       "normalized_losses    41\n",
       "num_of_doors          2\n",
       "wheel_base            0\n",
       "length                0\n",
       "width                 0\n",
       "height                0\n",
       "curb_weight           0\n",
       "num_of_cylinders      0\n",
       "engine_size           0\n",
       "bore                  4\n",
       "stroke                4\n",
       "compression_ratio     0\n",
       "horsepower            2\n",
       "peak_rpm              2\n",
       "city_mpg              0\n",
       "highway_mpg           0\n",
       "price                 4\n",
       "dtype: int64"
      ]
     },
     "execution_count": 15,
     "metadata": {},
     "output_type": "execute_result"
    }
   ],
   "source": [
    "cars_num.isnull().sum()"
   ]
  },
  {
   "cell_type": "markdown",
   "metadata": {},
   "source": [
    "Since `price` is the column that we want to predict and it's only missing a few values, let's remove the rows that do not have a price value."
   ]
  },
  {
   "cell_type": "code",
   "execution_count": 16,
   "metadata": {},
   "outputs": [],
   "source": [
    "# drop rows with a missing price\n",
    "cars_num.dropna(subset=['price'], inplace=True)"
   ]
  },
  {
   "cell_type": "code",
   "execution_count": 17,
   "metadata": {},
   "outputs": [
    {
     "data": {
      "text/plain": [
       "normalized_losses    37\n",
       "num_of_doors          2\n",
       "wheel_base            0\n",
       "length                0\n",
       "width                 0\n",
       "height                0\n",
       "curb_weight           0\n",
       "num_of_cylinders      0\n",
       "engine_size           0\n",
       "bore                  4\n",
       "stroke                4\n",
       "compression_ratio     0\n",
       "horsepower            2\n",
       "peak_rpm              2\n",
       "city_mpg              0\n",
       "highway_mpg           0\n",
       "price                 0\n",
       "dtype: int64"
      ]
     },
     "execution_count": 17,
     "metadata": {},
     "output_type": "execute_result"
    }
   ],
   "source": [
    "cars_num.isnull().sum()"
   ]
  },
  {
   "cell_type": "markdown",
   "metadata": {},
   "source": [
    "There are a few other columns that have some missing values that we could probably remove, but we'd risk losing too much data. So, what we can do is fill those missing values with the averages of those columns."
   ]
  },
  {
   "cell_type": "code",
   "execution_count": 18,
   "metadata": {},
   "outputs": [],
   "source": [
    "# fill null values with column averages\n",
    "cars_num.fillna(cars_num.mean(), inplace=True)"
   ]
  },
  {
   "cell_type": "code",
   "execution_count": 19,
   "metadata": {},
   "outputs": [
    {
     "data": {
      "text/plain": [
       "normalized_losses    0\n",
       "num_of_doors         0\n",
       "wheel_base           0\n",
       "length               0\n",
       "width                0\n",
       "height               0\n",
       "curb_weight          0\n",
       "num_of_cylinders     0\n",
       "engine_size          0\n",
       "bore                 0\n",
       "stroke               0\n",
       "compression_ratio    0\n",
       "horsepower           0\n",
       "peak_rpm             0\n",
       "city_mpg             0\n",
       "highway_mpg          0\n",
       "price                0\n",
       "dtype: int64"
      ]
     },
     "execution_count": 19,
     "metadata": {},
     "output_type": "execute_result"
    }
   ],
   "source": [
    "cars_num.isnull().sum()"
   ]
  },
  {
   "cell_type": "markdown",
   "metadata": {},
   "source": [
    "Finally, to avoid large errors when making calculations we can normalize each column to range from 0 to 1, except for the target column (`price`)."
   ]
  },
  {
   "cell_type": "code",
   "execution_count": 20,
   "metadata": {},
   "outputs": [],
   "source": [
    "target_col = cars_num['price'].copy()\n",
    "cars_num = (cars_num - cars_num.min()) / (cars_num.max() - cars_num.min())\n",
    "cars_num['price'] = target_col"
   ]
  },
  {
   "cell_type": "code",
   "execution_count": 21,
   "metadata": {
    "scrolled": true
   },
   "outputs": [
    {
     "data": {
      "text/html": [
       "<div>\n",
       "<style scoped>\n",
       "    .dataframe tbody tr th:only-of-type {\n",
       "        vertical-align: middle;\n",
       "    }\n",
       "\n",
       "    .dataframe tbody tr th {\n",
       "        vertical-align: top;\n",
       "    }\n",
       "\n",
       "    .dataframe thead th {\n",
       "        text-align: right;\n",
       "    }\n",
       "</style>\n",
       "<table border=\"1\" class=\"dataframe\">\n",
       "  <thead>\n",
       "    <tr style=\"text-align: right;\">\n",
       "      <th></th>\n",
       "      <th>normalized_losses</th>\n",
       "      <th>num_of_doors</th>\n",
       "      <th>wheel_base</th>\n",
       "      <th>length</th>\n",
       "      <th>width</th>\n",
       "      <th>height</th>\n",
       "      <th>curb_weight</th>\n",
       "      <th>num_of_cylinders</th>\n",
       "      <th>engine_size</th>\n",
       "      <th>bore</th>\n",
       "      <th>stroke</th>\n",
       "      <th>compression_ratio</th>\n",
       "      <th>horsepower</th>\n",
       "      <th>peak_rpm</th>\n",
       "      <th>city_mpg</th>\n",
       "      <th>highway_mpg</th>\n",
       "      <th>price</th>\n",
       "    </tr>\n",
       "  </thead>\n",
       "  <tbody>\n",
       "    <tr>\n",
       "      <th>0</th>\n",
       "      <td>0.298429</td>\n",
       "      <td>0.0</td>\n",
       "      <td>0.058309</td>\n",
       "      <td>0.413433</td>\n",
       "      <td>0.324786</td>\n",
       "      <td>0.083333</td>\n",
       "      <td>0.411171</td>\n",
       "      <td>0.2</td>\n",
       "      <td>0.260377</td>\n",
       "      <td>0.664286</td>\n",
       "      <td>0.290476</td>\n",
       "      <td>0.1250</td>\n",
       "      <td>0.294393</td>\n",
       "      <td>0.346939</td>\n",
       "      <td>0.222222</td>\n",
       "      <td>0.289474</td>\n",
       "      <td>13495.0</td>\n",
       "    </tr>\n",
       "    <tr>\n",
       "      <th>1</th>\n",
       "      <td>0.298429</td>\n",
       "      <td>0.0</td>\n",
       "      <td>0.058309</td>\n",
       "      <td>0.413433</td>\n",
       "      <td>0.324786</td>\n",
       "      <td>0.083333</td>\n",
       "      <td>0.411171</td>\n",
       "      <td>0.2</td>\n",
       "      <td>0.260377</td>\n",
       "      <td>0.664286</td>\n",
       "      <td>0.290476</td>\n",
       "      <td>0.1250</td>\n",
       "      <td>0.294393</td>\n",
       "      <td>0.346939</td>\n",
       "      <td>0.222222</td>\n",
       "      <td>0.289474</td>\n",
       "      <td>16500.0</td>\n",
       "    </tr>\n",
       "    <tr>\n",
       "      <th>2</th>\n",
       "      <td>0.298429</td>\n",
       "      <td>0.0</td>\n",
       "      <td>0.230321</td>\n",
       "      <td>0.449254</td>\n",
       "      <td>0.444444</td>\n",
       "      <td>0.383333</td>\n",
       "      <td>0.517843</td>\n",
       "      <td>0.4</td>\n",
       "      <td>0.343396</td>\n",
       "      <td>0.100000</td>\n",
       "      <td>0.666667</td>\n",
       "      <td>0.1250</td>\n",
       "      <td>0.495327</td>\n",
       "      <td>0.346939</td>\n",
       "      <td>0.166667</td>\n",
       "      <td>0.263158</td>\n",
       "      <td>16500.0</td>\n",
       "    </tr>\n",
       "    <tr>\n",
       "      <th>3</th>\n",
       "      <td>0.518325</td>\n",
       "      <td>1.0</td>\n",
       "      <td>0.384840</td>\n",
       "      <td>0.529851</td>\n",
       "      <td>0.504274</td>\n",
       "      <td>0.541667</td>\n",
       "      <td>0.329325</td>\n",
       "      <td>0.2</td>\n",
       "      <td>0.181132</td>\n",
       "      <td>0.464286</td>\n",
       "      <td>0.633333</td>\n",
       "      <td>0.1875</td>\n",
       "      <td>0.252336</td>\n",
       "      <td>0.551020</td>\n",
       "      <td>0.305556</td>\n",
       "      <td>0.368421</td>\n",
       "      <td>13950.0</td>\n",
       "    </tr>\n",
       "    <tr>\n",
       "      <th>4</th>\n",
       "      <td>0.518325</td>\n",
       "      <td>1.0</td>\n",
       "      <td>0.373178</td>\n",
       "      <td>0.529851</td>\n",
       "      <td>0.521368</td>\n",
       "      <td>0.541667</td>\n",
       "      <td>0.518231</td>\n",
       "      <td>0.3</td>\n",
       "      <td>0.283019</td>\n",
       "      <td>0.464286</td>\n",
       "      <td>0.633333</td>\n",
       "      <td>0.0625</td>\n",
       "      <td>0.313084</td>\n",
       "      <td>0.551020</td>\n",
       "      <td>0.138889</td>\n",
       "      <td>0.157895</td>\n",
       "      <td>17450.0</td>\n",
       "    </tr>\n",
       "  </tbody>\n",
       "</table>\n",
       "</div>"
      ],
      "text/plain": [
       "   normalized_losses  num_of_doors  wheel_base    length     width    height  \\\n",
       "0           0.298429           0.0    0.058309  0.413433  0.324786  0.083333   \n",
       "1           0.298429           0.0    0.058309  0.413433  0.324786  0.083333   \n",
       "2           0.298429           0.0    0.230321  0.449254  0.444444  0.383333   \n",
       "3           0.518325           1.0    0.384840  0.529851  0.504274  0.541667   \n",
       "4           0.518325           1.0    0.373178  0.529851  0.521368  0.541667   \n",
       "\n",
       "   curb_weight  num_of_cylinders  engine_size      bore    stroke  \\\n",
       "0     0.411171               0.2     0.260377  0.664286  0.290476   \n",
       "1     0.411171               0.2     0.260377  0.664286  0.290476   \n",
       "2     0.517843               0.4     0.343396  0.100000  0.666667   \n",
       "3     0.329325               0.2     0.181132  0.464286  0.633333   \n",
       "4     0.518231               0.3     0.283019  0.464286  0.633333   \n",
       "\n",
       "   compression_ratio  horsepower  peak_rpm  city_mpg  highway_mpg    price  \n",
       "0             0.1250    0.294393  0.346939  0.222222     0.289474  13495.0  \n",
       "1             0.1250    0.294393  0.346939  0.222222     0.289474  16500.0  \n",
       "2             0.1250    0.495327  0.346939  0.166667     0.263158  16500.0  \n",
       "3             0.1875    0.252336  0.551020  0.305556     0.368421  13950.0  \n",
       "4             0.0625    0.313084  0.551020  0.138889     0.157895  17450.0  "
      ]
     },
     "execution_count": 21,
     "metadata": {},
     "output_type": "execute_result"
    }
   ],
   "source": [
    "cars_num.head()"
   ]
  },
  {
   "cell_type": "code",
   "execution_count": 22,
   "metadata": {},
   "outputs": [
    {
     "data": {
      "text/plain": [
       "normalized_losses    0\n",
       "num_of_doors         0\n",
       "wheel_base           0\n",
       "length               0\n",
       "width                0\n",
       "height               0\n",
       "curb_weight          0\n",
       "num_of_cylinders     0\n",
       "engine_size          0\n",
       "bore                 0\n",
       "stroke               0\n",
       "compression_ratio    0\n",
       "horsepower           0\n",
       "peak_rpm             0\n",
       "city_mpg             0\n",
       "highway_mpg          0\n",
       "price                0\n",
       "dtype: int64"
      ]
     },
     "execution_count": 22,
     "metadata": {},
     "output_type": "execute_result"
    }
   ],
   "source": [
    "cars_num.isnull().sum()"
   ]
  },
  {
   "cell_type": "markdown",
   "metadata": {},
   "source": [
    "## k-Nearest Neighbors Prediction Models\n",
    "### Univariate Model\n",
    "We'll begin our predictions using simple prediction models before moving on to more complex models. This way, we can structure our code workflow and understand the features better.\n",
    "\n",
    "First, we'll create a function, called `knn_train_test()` that encapsulates the training and simple validation process. The function will take in 3 parameters&mdash;training column(s), target column, the dataframe, and the k-value (number of neighbors)&mdash; and will perform the following:\n",
    "* Split the data set into a training and test set.\n",
    "* Instantiate the KNeighborsRegressor class, fit the model on the training set, and make predictions on the test set.\n",
    "* Calculate and return the Root-Mean-Squared-Error (RMSE) value\n",
    "\n",
    "Then, we'll use the function to train and test univariate models using the different numeric columns in the data set."
   ]
  },
  {
   "cell_type": "code",
   "execution_count": 23,
   "metadata": {},
   "outputs": [],
   "source": [
    "from sklearn.neighbors import KNeighborsRegressor\n",
    "from sklearn.metrics import mean_squared_error\n",
    "\n",
    "def knn_train_test(features, target, df, k=5):\n",
    "    '''Parameters:\n",
    "            train_col: expects column names as a list of strings\n",
    "            test_col: expects a single column name as a string\n",
    "            df: dataframe\n",
    "            k: for k-nearest neighbors, default=5'''\n",
    "    # randomize the data set\n",
    "    np.random.seed(2)\n",
    "    shuffled_index = np.random.permutation(df.index)\n",
    "    df = df.reindex(shuffled_index)\n",
    "    \n",
    "    # split the data into a training and test set\n",
    "    df_split = int(df.shape[0] / 2)\n",
    "    train_set = df.iloc[:df_split]\n",
    "    test_set = df.iloc[df_split:]\n",
    "    \n",
    "    # instantiate KNeighborsRegressor class and make predictions\n",
    "    model = KNeighborsRegressor(n_neighbors=k)\n",
    "    model.fit(train_set[features], train_set[target])\n",
    "    predictions = model.predict(test_set[features])\n",
    "    mse = mean_squared_error(test_set[target], predictions)\n",
    "    rmse = np.sqrt(mse)\n",
    "    \n",
    "    return rmse"
   ]
  },
  {
   "cell_type": "markdown",
   "metadata": {},
   "source": [
    "Now, we'll use this function to train and test univariate models using the different numeric columns in our data set."
   ]
  },
  {
   "cell_type": "code",
   "execution_count": 24,
   "metadata": {},
   "outputs": [
    {
     "data": {
      "text/plain": [
       "engine_size          4204.450923\n",
       "curb_weight          4423.567553\n",
       "highway_mpg          4524.912704\n",
       "horsepower           4690.439958\n",
       "width                5224.489949\n",
       "city_mpg             5371.994068\n",
       "length               5860.888868\n",
       "num_of_cylinders     5996.065679\n",
       "compression_ratio    7052.367117\n",
       "bore                 7179.265101\n",
       "wheel_base           7365.198823\n",
       "normalized_losses    8094.531252\n",
       "stroke               8186.552629\n",
       "peak_rpm             8543.527987\n",
       "height               8636.862459\n",
       "num_of_doors         9111.718143\n",
       "dtype: float64"
      ]
     },
     "execution_count": 24,
     "metadata": {},
     "output_type": "execute_result"
    }
   ],
   "source": [
    "# establish features and target\n",
    "feature_names = cars_num.columns.drop('price')\n",
    "target_name = 'price'\n",
    "\n",
    "# create dictionary containing rmse result for each feature \n",
    "rmse_per_feat = {}\n",
    "for feat in feature_names: # using default k=5\n",
    "    rmse_per_feat[feat] = knn_train_test([feat], target_name, cars_num)\n",
    "\n",
    "# transform dict to pandas Series and sort by values\n",
    "rmse_per_feat = pd.Series(rmse_per_feat)\n",
    "rmse_per_feat.sort_values()"
   ]
  },
  {
   "cell_type": "markdown",
   "metadata": {},
   "source": [
    "Using the default number of nearest neighbors (k = 5) and training our prediction model with only one feature at a time, we found that `engine_size` results in the lowest (best) RMSE.\n",
    "\n",
    "We'll perform the predictions again, but this time we'll vary the k values (using 1, 3, 5, 7, and 9) and see which pair of feature and k-value performed the best."
   ]
  },
  {
   "cell_type": "code",
   "execution_count": 25,
   "metadata": {},
   "outputs": [
    {
     "data": {
      "text/plain": [
       "{'normalized_losses': {1: 9962.792797043994,\n",
       "  3: 9019.619227728037,\n",
       "  5: 8094.531252054997,\n",
       "  7: 8695.675658336206,\n",
       "  9: 8530.521880852983},\n",
       " 'num_of_doors': {1: 9569.146140664074,\n",
       "  3: 10323.964897650552,\n",
       "  5: 9111.718143486258,\n",
       "  7: 8813.608759235967,\n",
       "  9: 8691.285283650474},\n",
       " 'wheel_base': {1: 7190.166713389658,\n",
       "  3: 7275.724958302566,\n",
       "  5: 7365.198822909678,\n",
       "  7: 7391.6830470559935,\n",
       "  9: 7418.516692786961},\n",
       " 'length': {1: 5451.514139745175,\n",
       "  3: 5626.958100159099,\n",
       "  5: 5860.888868213128,\n",
       "  7: 6152.910698625953,\n",
       "  9: 6258.300157784935},\n",
       " 'width': {1: 5733.67839442474,\n",
       "  3: 5067.598634540041,\n",
       "  5: 5224.489948708717,\n",
       "  7: 5372.091555957795,\n",
       "  9: 5426.896494952097},\n",
       " 'height': {1: 8779.288411927357,\n",
       "  3: 8682.607261346413,\n",
       "  5: 8636.862458802805,\n",
       "  7: 8537.302578912371,\n",
       "  9: 8603.672388492741},\n",
       " 'curb_weight': {1: 5320.150762771094,\n",
       "  3: 4456.515695609578,\n",
       "  5: 4423.567552808188,\n",
       "  7: 4566.233938320572,\n",
       "  9: 4913.234299086159},\n",
       " 'num_of_cylinders': {1: 5642.003774729277,\n",
       "  3: 5704.442564282414,\n",
       "  5: 5996.065678838958,\n",
       "  7: 5866.316386460051,\n",
       "  9: 5992.783126898418},\n",
       " 'engine_size': {1: 4184.63236848901,\n",
       "  3: 3550.5774316172565,\n",
       "  5: 4204.4509233821145,\n",
       "  7: 4495.499998735854,\n",
       "  9: 4888.481809822219},\n",
       " 'bore': {1: 7702.0597823627095,\n",
       "  3: 6737.166230254484,\n",
       "  5: 7179.265100728254,\n",
       "  7: 7181.450605297127,\n",
       "  9: 6988.972304512508},\n",
       " 'stroke': {1: 9917.48127008941,\n",
       "  3: 7745.165982024459,\n",
       "  5: 8186.552629214027,\n",
       "  7: 8480.65853051127,\n",
       "  9: 8652.258295597696},\n",
       " 'compression_ratio': {1: 7020.5923891826615,\n",
       "  3: 7032.202756879339,\n",
       "  5: 7052.367116573745,\n",
       "  7: 7552.674394825009,\n",
       "  9: 8189.120228837568},\n",
       " 'horsepower': {1: 5694.6165284363615,\n",
       "  3: 4656.458351294225,\n",
       "  5: 4690.439957704574,\n",
       "  7: 4830.384783032503,\n",
       "  9: 5158.4519675128095},\n",
       " 'peak_rpm': {1: 9306.313113810282,\n",
       "  3: 8151.83441813179,\n",
       "  5: 8543.527987272408,\n",
       "  7: 8474.699115389472,\n",
       "  9: 8401.02660833495},\n",
       " 'city_mpg': {1: 6098.0185314494565,\n",
       "  3: 5925.132052392067,\n",
       "  5: 5371.994068286279,\n",
       "  7: 5274.719096174142,\n",
       "  9: 5242.249959517745},\n",
       " 'highway_mpg': {1: 5361.092762111135,\n",
       "  3: 4317.072878933619,\n",
       "  5: 4524.912704108443,\n",
       "  7: 4753.845965991899,\n",
       "  9: 5211.6230800577505}}"
      ]
     },
     "execution_count": 25,
     "metadata": {},
     "output_type": "execute_result"
    }
   ],
   "source": [
    "# establish features and target\n",
    "feature_names = cars_num.columns.drop('price')\n",
    "target_name = 'price'\n",
    "\n",
    "# create dictionary within a dictionary {feature: {k-value: rmse}}\n",
    "rmse_results = {}\n",
    "for feat in feature_names:\n",
    "    k_results = {}\n",
    "    for i in range(1, 10, 2):\n",
    "        rmse = knn_train_test([feat], target_name, cars_num, k=i)\n",
    "        k_results[i] = rmse\n",
    "    rmse_results[feat] = k_results\n",
    "    \n",
    "rmse_results"
   ]
  },
  {
   "cell_type": "markdown",
   "metadata": {},
   "source": [
    "This is quite a bit of information for the human mind to take in. Let's make things easier by creating a visualization of the data."
   ]
  },
  {
   "cell_type": "code",
   "execution_count": 26,
   "metadata": {},
   "outputs": [
    {
     "data": {
      "image/png": "[encoded data removed]",
      "text/plain": [
       "<Figure size 864x576 with 1 Axes>"
      ]
     },
     "metadata": {},
     "output_type": "display_data"
    }
   ],
   "source": [
    "plt.style.use('fivethirtyeight')\n",
    "plt.figure(figsize=(12,8))\n",
    "\n",
    "for feature, k in rmse_results.items():\n",
    "    x = list(k.keys())\n",
    "    y = list(k.values())\n",
    "    plt.plot(x, y, label=feature)\n",
    "    plt.xlabel('k value', fontsize=14)\n",
    "    plt.ylabel('RMSE', fontsize=14)\n",
    "    plt.legend(bbox_to_anchor=(1,1), fontsize=12)"
   ]
  },
  {
   "cell_type": "markdown",
   "metadata": {},
   "source": [
    "The best-performing feature is still `engine_size`, but what's worth noting from the plot above is that many of the features performed best when the k-value (number of nearest neighbors) was set at k = 3."
   ]
  },
  {
   "cell_type": "markdown",
   "metadata": {},
   "source": [
    "### Multivariate Model\n",
    "Looking at how each feature independently affects the pricing of a car gives us good insight for predicting a car's market value. However, more often than not, a car's value is determined by a collection of multiple features. For instance, large SUVs tend to be more expensive than small compact sedans, meaning that a car's size can have an affect on its market value. If we were to predict a car's price based on its size, we would need to consider at least `length`, `width`, and `height`&mdash;one could argue about including `wheel_base` or `curb_weight`.\n",
    "\n",
    "Luckily, our `knn_train_test()` function that we created earlier was built to accept multiple features. Below, we'll investigate how the number of features passed into the model will affect its performance.\n",
    "\n",
    "We'll pass the following features into the prediction model using the default k value:\n",
    "* Best 2 features: `[engine_size, curb_weight]`\n",
    "* Best 3 features: `[engine_size, curb_weight, highway_mpg]`\n",
    "* Best 4 features: `[engine_size, curb_weight, highway_mpg, horsepower]`\n",
    "* Best 5 features: `[engine_size, curb_weight, highway_mpg, horsepower, width]`"
   ]
  },
  {
   "cell_type": "code",
   "execution_count": 27,
   "metadata": {},
   "outputs": [
    {
     "data": {
      "text/plain": [
       "{'Best 2 Features': 4481.822268755519,\n",
       " 'Best 3 Features': 4416.455933828112,\n",
       " 'Best 4 Features': 4785.522842536188,\n",
       " 'Best 5 Features': 4367.216085361202}"
      ]
     },
     "execution_count": 27,
     "metadata": {},
     "output_type": "execute_result"
    }
   ],
   "source": [
    "feats = ['engine_size', 'curb_weight', 'highway_mpg',\n",
    "         'horsepower', 'width']\n",
    "targ = 'price'\n",
    "\n",
    "rmse_results = {}\n",
    "for i in range(2,6):\n",
    "    feat = feats[:i]\n",
    "    rmse = knn_train_test(feat, targ, cars_num)\n",
    "    key = 'Best {} Features'.format(i)\n",
    "    rmse_results[key] = rmse\n",
    "    \n",
    "rmse_results"
   ]
  },
  {
   "cell_type": "markdown",
   "metadata": {},
   "source": [
    "The results above show now clear relationship between the number of features used and the resulting RMSE value. Let's include more features to see if we can find any relationships."
   ]
  },
  {
   "cell_type": "code",
   "execution_count": 28,
   "metadata": {},
   "outputs": [
    {
     "data": {
      "text/plain": [
       "Text(0, 0.5, 'RMSE')"
      ]
     },
     "execution_count": 28,
     "metadata": {},
     "output_type": "execute_result"
    },
    {
     "data": {
      "image/png": "[encoded data removed]",
      "text/plain": [
       "<Figure size 864x576 with 1 Axes>"
      ]
     },
     "metadata": {},
     "output_type": "display_data"
    }
   ],
   "source": [
    "feats = list(rmse_per_feat.sort_values().index)\n",
    "targ = 'price'\n",
    "\n",
    "rmse_results = {}\n",
    "for i in range(2,len(feats)):\n",
    "    feat = feats[:i]\n",
    "    rmse = knn_train_test(feat, targ, cars_num)\n",
    "    key = 'Best {} Features'.format(i)\n",
    "    rmse_results[key] = rmse\n",
    "    \n",
    "x = range(2, len(feats))\n",
    "y = list(rmse_results.values())\n",
    "\n",
    "plt.style.use('fivethirtyeight')\n",
    "plt.figure(figsize=(12,8))\n",
    "plt.plot(x, y)\n",
    "plt.xlabel('Number of Features', fontsize=14)\n",
    "plt.ylabel('RMSE', fontsize=14)"
   ]
  },
  {
   "cell_type": "markdown",
   "metadata": {},
   "source": [
    "The results show that the best number of features to use is 10 features, followed by 6 features. However, the graph shows no relationship between the number of features used and the model's performance.\n",
    "\n",
    "### Model Tuning\n",
    "Using the default k-vale (k = 5), we found that the top 3 performing models trained using:\n",
    "1. The best 10 features\n",
    "2. The best 6 features\n",
    "3. The best 5 features\n",
    "\n",
    "To fine tune our model, we'll take the three models above and perform predictions again while varying the k-value from 1 to 25. Then, we'll observe the results and determine the best k-value for each model."
   ]
  },
  {
   "cell_type": "code",
   "execution_count": 29,
   "metadata": {},
   "outputs": [
    {
     "data": {
      "image/png": "[encoded data removed]",
      "text/plain": [
       "<Figure size 864x576 with 1 Axes>"
      ]
     },
     "metadata": {},
     "output_type": "display_data"
    }
   ],
   "source": [
    "# establish input features\n",
    "top_features = list(rmse_per_feat.sort_values().index)\n",
    "top_3_models = {'gold': top_features[:10],\n",
    "                'silver': top_features[:6],\n",
    "                'bronze': top_features[:5]}\n",
    "\n",
    "top_3_results = {}\n",
    "for model in top_3_models.items():\n",
    "    k_results = {}\n",
    "    for i in range(1,26):\n",
    "        rmse = knn_train_test(list(model[1]), 'price', cars_num, k=i)\n",
    "        k_results[i] = rmse\n",
    "    top_3_results[model[0]] = k_results\n",
    "    \n",
    "    \n",
    "plt.style.use('fivethirtyeight')\n",
    "plt.figure(figsize=(12,8))\n",
    "\n",
    "for model, k in top_3_results.items():\n",
    "    x = list(k.keys())\n",
    "    y = list(k.values())\n",
    "    plt.plot(x, y, label=model)\n",
    "    plt.xlabel('k values', fontsize=14)\n",
    "    plt.ylabel('RMSE', fontsize=14)\n",
    "    plt.legend(bbox_to_anchor=(1,1))"
   ]
  },
  {
   "cell_type": "markdown",
   "metadata": {},
   "source": [
    "The results show that the optimal k-value for each model is `k = 1`.\n",
    "\n",
    "## Applying Our Findings\n",
    "Now that we know that passing the top 10 features and a k-value of 1 into our prediction model will get the best results, let's apply this to the data and get the predicted market value for each car."
   ]
  },
  {
   "cell_type": "markdown",
   "metadata": {},
   "source": [
    "## Conclusions\n",
    "In this project, we implemented a simple test/train validation model to predict the market value for a list of cars. We found that for our model to achieve the best results, we should pass the top 10 features into the model with a k-value of 1. We can now use this model to predict the market value for a car!"
   ]
  }
 ],
 "metadata": {
  "kernelspec": {
   "display_name": "Python 3",
   "language": "python",
   "name": "python3"
  },
  "language_info": {
   "codemirror_mode": {
    "name": "ipython",
    "version": 3
   },
   "file_extension": ".py",
   "mimetype": "text/x-python",
   "name": "python",
   "nbconvert_exporter": "python",
   "pygments_lexer": "ipython3",
   "version": "3.7.1"
  }
 },
 "nbformat": 4,
 "nbformat_minor": 2
}
